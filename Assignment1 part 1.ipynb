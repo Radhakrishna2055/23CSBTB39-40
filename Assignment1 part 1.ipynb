{
  "nbformat": 4,
  "nbformat_minor": 0,
  "metadata": {
    "colab": {
      "provenance": [],
      "authorship_tag": "ABX9TyOgQBvyZCF76RyqD/+NDyxz",
      "include_colab_link": true
    },
    "kernelspec": {
      "name": "python3",
      "display_name": "Python 3"
    },
    "language_info": {
      "name": "python"
    }
  },
  "cells": [
    {
      "cell_type": "markdown",
      "metadata": {
        "id": "view-in-github",
        "colab_type": "text"
      },
      "source": [
        "<a href=\"https://colab.research.google.com/github/Radhakrishna2055/23CSBTB39-40/blob/main/Assignment1%20part%201.ipynb\" target=\"_parent\"><img src=\"https://colab.research.google.com/assets/colab-badge.svg\" alt=\"Open In Colab\"/></a>"
      ]
    },
    {
      "cell_type": "code",
      "execution_count": 1,
      "metadata": {
        "colab": {
          "base_uri": "https://localhost:8080/"
        },
        "id": "bPQvvp9yOkXT",
        "outputId": "4debb09b-51b1-47a1-8747-897fac1099c8"
      },
      "outputs": [
        {
          "output_type": "stream",
          "name": "stdout",
          "text": [
            "List 1: [1, 2, 3, 4, 5]\n",
            "List 2: [6, 7, 8, 9, 10]\n",
            "Array 1: [1 2 3 4 5]\n",
            "Array 2: [ 6  7  8  9 10]\n",
            "Type of list1: <class 'list'>\n",
            "Type of array1: <class 'numpy.ndarray'>\n",
            "Multiplication of arrays: [ 6 14 24 36 50]\n",
            "Division of arrays: [0.16666667 0.28571429 0.375      0.44444444 0.5       ]\n",
            "Power of array1: [ 1  4  9 16 25]\n",
            "Addition of Two: array1 + array2 = [ 7  9 11 13 15]\n",
            "Sine of array1: [ 0.84147098  0.90929743  0.14112001 -0.7568025  -0.95892427]\n",
            "Log of array1: [0.         0.69314718 1.09861229 1.38629436 1.60943791]\n",
            "Log2 of array1: [0.         1.         1.5849625  2.         2.32192809]\n",
            "Exponential of array1: [  2.71828183   7.3890561   20.08553692  54.59815003 148.4131591 ]\n"
          ]
        }
      ],
      "source": [
        "import numpy as np\n",
        "import pandas as pd\n",
        "\n",
        "# Creating lists\n",
        "list1 = [1, 2, 3, 4, 5]\n",
        "list2 = [6, 7, 8, 9, 10]\n",
        "\n",
        "print(\"List 1:\", list1)\n",
        "print(\"List 2:\", list2)\n",
        "\n",
        "# Creating arrays from lists\n",
        "array1 = np.array(list1)\n",
        "array2 = np.array(list2)\n",
        "\n",
        "print(\"Array 1:\", array1)\n",
        "print(\"Array 2:\", array2)\n",
        "\n",
        "# Identify their type using type()\n",
        "print(\"Type of list1:\", type(list1))\n",
        "print(\"Type of array1:\", type(array1))\n",
        "\n",
        "# Perform mathematical operations on these datasets created\n",
        "# Multiplication\n",
        "multiplication = array1 * array2\n",
        "print(\"Multiplication of arrays:\", multiplication)\n",
        "\n",
        "# Division\n",
        "division = array1 / array2\n",
        "print(\"Division of arrays:\", division)\n",
        "\n",
        "# Power\n",
        "power = np.power(array1, 2)\n",
        "print(\"Power of array1:\", power)\n",
        "\n",
        "# Combine text with Numpy function to generate a textual output\n",
        "addition = array1 + array2\n",
        "print(\"Addition of Two: array1 + array2 =\", addition)\n",
        "\n",
        "# Implement np.sin(), np.log(), np.log2(), np.exp()\n",
        "# Sine function\n",
        "sin_values = np.sin(array1)\n",
        "print(\"Sine of array1:\", sin_values)\n",
        "\n",
        "# Natural logarithm\n",
        "log_values = np.log(array1)\n",
        "print(\"Log of array1:\", log_values)\n",
        "\n",
        "# Base-2 logarithm\n",
        "log2_values = np.log2(array1)\n",
        "print(\"Log2 of array1:\", log2_values)\n",
        "\n",
        "# Exponential function\n",
        "exp_values = np.exp(array1)\n",
        "print(\"Exponential of array1:\", exp_values)"
      ]
    }
  ]
}